{
 "cells": [
  {
   "cell_type": "markdown",
   "metadata": {},
   "source": [
    "#### Setup"
   ]
  },
  {
   "cell_type": "code",
   "execution_count": 1,
   "metadata": {},
   "outputs": [],
   "source": [
    "from experiments.main_functions.utils import read_grid_search"
   ]
  },
  {
   "cell_type": "markdown",
   "metadata": {},
   "source": [
    "#### Check top 10 results"
   ]
  },
  {
   "cell_type": "code",
   "execution_count": 2,
   "metadata": {},
   "outputs": [],
   "source": [
    "a = read_grid_search(\"experiments/results/grid_search_15\")"
   ]
  },
  {
   "cell_type": "code",
   "execution_count": 3,
   "metadata": {},
   "outputs": [
    {
     "data": {
      "text/html": [
       "<div>\n",
       "<style scoped>\n",
       "    .dataframe tbody tr th:only-of-type {\n",
       "        vertical-align: middle;\n",
       "    }\n",
       "\n",
       "    .dataframe tbody tr th {\n",
       "        vertical-align: top;\n",
       "    }\n",
       "\n",
       "    .dataframe thead th {\n",
       "        text-align: right;\n",
       "    }\n",
       "</style>\n",
       "<table border=\"1\" class=\"dataframe\">\n",
       "  <thead>\n",
       "    <tr style=\"text-align: right;\">\n",
       "      <th></th>\n",
       "      <th>Levels</th>\n",
       "      <th>Neuron_Configuration</th>\n",
       "      <th>Optimizer</th>\n",
       "      <th>Learning_Rate</th>\n",
       "      <th>Mean Accuracy</th>\n",
       "    </tr>\n",
       "  </thead>\n",
       "  <tbody>\n",
       "    <tr>\n",
       "      <th>6</th>\n",
       "      <td>3</td>\n",
       "      <td>(16, 16)</td>\n",
       "      <td>opt5</td>\n",
       "      <td>0.0045</td>\n",
       "      <td>0.883333</td>\n",
       "    </tr>\n",
       "    <tr>\n",
       "      <th>1151</th>\n",
       "      <td>3</td>\n",
       "      <td>(16, 16)</td>\n",
       "      <td>opt4</td>\n",
       "      <td>0.0080</td>\n",
       "      <td>0.879885</td>\n",
       "    </tr>\n",
       "    <tr>\n",
       "      <th>1155</th>\n",
       "      <td>3</td>\n",
       "      <td>(16, 16)</td>\n",
       "      <td>opt5</td>\n",
       "      <td>0.0040</td>\n",
       "      <td>0.878736</td>\n",
       "    </tr>\n",
       "    <tr>\n",
       "      <th>1606</th>\n",
       "      <td>3</td>\n",
       "      <td>(16, 16)</td>\n",
       "      <td>opt5</td>\n",
       "      <td>0.0085</td>\n",
       "      <td>0.878736</td>\n",
       "    </tr>\n",
       "    <tr>\n",
       "      <th>1711</th>\n",
       "      <td>3</td>\n",
       "      <td>(16, 16)</td>\n",
       "      <td>opt3</td>\n",
       "      <td>0.0080</td>\n",
       "      <td>0.877586</td>\n",
       "    </tr>\n",
       "    <tr>\n",
       "      <th>948</th>\n",
       "      <td>3</td>\n",
       "      <td>(16, 16)</td>\n",
       "      <td>opt3</td>\n",
       "      <td>0.0075</td>\n",
       "      <td>0.876437</td>\n",
       "    </tr>\n",
       "    <tr>\n",
       "      <th>1551</th>\n",
       "      <td>3</td>\n",
       "      <td>(16, 16)</td>\n",
       "      <td>opt3</td>\n",
       "      <td>0.0070</td>\n",
       "      <td>0.876437</td>\n",
       "    </tr>\n",
       "    <tr>\n",
       "      <th>1258</th>\n",
       "      <td>3</td>\n",
       "      <td>(16, 16)</td>\n",
       "      <td>opt3</td>\n",
       "      <td>0.0085</td>\n",
       "      <td>0.876437</td>\n",
       "    </tr>\n",
       "    <tr>\n",
       "      <th>1535</th>\n",
       "      <td>3</td>\n",
       "      <td>(16, 16)</td>\n",
       "      <td>opt5</td>\n",
       "      <td>0.0065</td>\n",
       "      <td>0.876437</td>\n",
       "    </tr>\n",
       "    <tr>\n",
       "      <th>1548</th>\n",
       "      <td>3</td>\n",
       "      <td>(16, 16)</td>\n",
       "      <td>opt5</td>\n",
       "      <td>0.0095</td>\n",
       "      <td>0.875862</td>\n",
       "    </tr>\n",
       "  </tbody>\n",
       "</table>\n",
       "</div>"
      ],
      "text/plain": [
       "      Levels Neuron_Configuration Optimizer  Learning_Rate  Mean Accuracy\n",
       "6          3             (16, 16)      opt5         0.0045       0.883333\n",
       "1151       3             (16, 16)      opt4         0.0080       0.879885\n",
       "1155       3             (16, 16)      opt5         0.0040       0.878736\n",
       "1606       3             (16, 16)      opt5         0.0085       0.878736\n",
       "1711       3             (16, 16)      opt3         0.0080       0.877586\n",
       "948        3             (16, 16)      opt3         0.0075       0.876437\n",
       "1551       3             (16, 16)      opt3         0.0070       0.876437\n",
       "1258       3             (16, 16)      opt3         0.0085       0.876437\n",
       "1535       3             (16, 16)      opt5         0.0065       0.876437\n",
       "1548       3             (16, 16)      opt5         0.0095       0.875862"
      ]
     },
     "execution_count": 3,
     "metadata": {},
     "output_type": "execute_result"
    }
   ],
   "source": [
    "a.sort_values(\"Mean Accuracy\",ascending=False).head(10)"
   ]
  }
 ],
 "metadata": {
  "kernelspec": {
   "display_name": "PhD_test",
   "language": "python",
   "name": "python3"
  },
  "language_info": {
   "codemirror_mode": {
    "name": "ipython",
    "version": 3
   },
   "file_extension": ".py",
   "mimetype": "text/x-python",
   "name": "python",
   "nbconvert_exporter": "python",
   "pygments_lexer": "ipython3",
   "version": "3.12.0"
  }
 },
 "nbformat": 4,
 "nbformat_minor": 2
}
