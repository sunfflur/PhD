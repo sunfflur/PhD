{
 "cells": [
  {
   "cell_type": "code",
   "execution_count": 1,
   "metadata": {},
   "outputs": [],
   "source": [
    "from experiments.main_functions.utils import *\n",
    "import os\n",
    "import matplotlib.pyplot as plt\n"
   ]
  },
  {
   "cell_type": "code",
   "execution_count": 16,
   "metadata": {},
   "outputs": [
    {
     "data": {
      "text/plain": [
       "Array(0.004, dtype=float32)"
      ]
     },
     "execution_count": 16,
     "metadata": {},
     "output_type": "execute_result"
    }
   ],
   "source": [
    "a[0]"
   ]
  },
  {
   "cell_type": "code",
   "execution_count": 31,
   "metadata": {},
   "outputs": [],
   "source": [
    "a = read_grid_search(\"experiments/results/grid_search_5\")"
   ]
  },
  {
   "cell_type": "code",
   "execution_count": 32,
   "metadata": {},
   "outputs": [
    {
     "data": {
      "text/html": [
       "<div>\n",
       "<style scoped>\n",
       "    .dataframe tbody tr th:only-of-type {\n",
       "        vertical-align: middle;\n",
       "    }\n",
       "\n",
       "    .dataframe tbody tr th {\n",
       "        vertical-align: top;\n",
       "    }\n",
       "\n",
       "    .dataframe thead th {\n",
       "        text-align: right;\n",
       "    }\n",
       "</style>\n",
       "<table border=\"1\" class=\"dataframe\">\n",
       "  <thead>\n",
       "    <tr style=\"text-align: right;\">\n",
       "      <th></th>\n",
       "      <th>Levels</th>\n",
       "      <th>Neuron_Configuration</th>\n",
       "      <th>Optimizer</th>\n",
       "      <th>Learning_Rate</th>\n",
       "      <th>Mean Accuracy</th>\n",
       "    </tr>\n",
       "  </thead>\n",
       "  <tbody>\n",
       "    <tr>\n",
       "      <th>727</th>\n",
       "      <td>1</td>\n",
       "      <td>(16, 16)</td>\n",
       "      <td>opt4</td>\n",
       "      <td>0.0095</td>\n",
       "      <td>0.882759</td>\n",
       "    </tr>\n",
       "    <tr>\n",
       "      <th>303</th>\n",
       "      <td>1</td>\n",
       "      <td>(16, 16)</td>\n",
       "      <td>opt3</td>\n",
       "      <td>0.0050</td>\n",
       "      <td>0.877586</td>\n",
       "    </tr>\n",
       "    <tr>\n",
       "      <th>199</th>\n",
       "      <td>1</td>\n",
       "      <td>(16, 16)</td>\n",
       "      <td>opt4</td>\n",
       "      <td>0.0085</td>\n",
       "      <td>0.875862</td>\n",
       "    </tr>\n",
       "    <tr>\n",
       "      <th>109</th>\n",
       "      <td>1</td>\n",
       "      <td>(16, 16)</td>\n",
       "      <td>opt3</td>\n",
       "      <td>0.0075</td>\n",
       "      <td>0.874138</td>\n",
       "    </tr>\n",
       "    <tr>\n",
       "      <th>282</th>\n",
       "      <td>1</td>\n",
       "      <td>(16, 16)</td>\n",
       "      <td>opt4</td>\n",
       "      <td>0.0090</td>\n",
       "      <td>0.872414</td>\n",
       "    </tr>\n",
       "    <tr>\n",
       "      <th>398</th>\n",
       "      <td>1</td>\n",
       "      <td>(16, 16)</td>\n",
       "      <td>opt5</td>\n",
       "      <td>0.0095</td>\n",
       "      <td>0.872414</td>\n",
       "    </tr>\n",
       "    <tr>\n",
       "      <th>409</th>\n",
       "      <td>1</td>\n",
       "      <td>(16, 16)</td>\n",
       "      <td>opt5</td>\n",
       "      <td>0.0055</td>\n",
       "      <td>0.872414</td>\n",
       "    </tr>\n",
       "    <tr>\n",
       "      <th>470</th>\n",
       "      <td>1</td>\n",
       "      <td>(16, 16)</td>\n",
       "      <td>opt3</td>\n",
       "      <td>0.0040</td>\n",
       "      <td>0.870690</td>\n",
       "    </tr>\n",
       "    <tr>\n",
       "      <th>435</th>\n",
       "      <td>1</td>\n",
       "      <td>(16, 16)</td>\n",
       "      <td>opt4</td>\n",
       "      <td>0.0080</td>\n",
       "      <td>0.870690</td>\n",
       "    </tr>\n",
       "    <tr>\n",
       "      <th>566</th>\n",
       "      <td>1</td>\n",
       "      <td>(16, 16)</td>\n",
       "      <td>opt4</td>\n",
       "      <td>0.0055</td>\n",
       "      <td>0.870690</td>\n",
       "    </tr>\n",
       "  </tbody>\n",
       "</table>\n",
       "</div>"
      ],
      "text/plain": [
       "     Levels Neuron_Configuration Optimizer  Learning_Rate  Mean Accuracy\n",
       "727       1             (16, 16)      opt4         0.0095       0.882759\n",
       "303       1             (16, 16)      opt3         0.0050       0.877586\n",
       "199       1             (16, 16)      opt4         0.0085       0.875862\n",
       "109       1             (16, 16)      opt3         0.0075       0.874138\n",
       "282       1             (16, 16)      opt4         0.0090       0.872414\n",
       "398       1             (16, 16)      opt5         0.0095       0.872414\n",
       "409       1             (16, 16)      opt5         0.0055       0.872414\n",
       "470       1             (16, 16)      opt3         0.0040       0.870690\n",
       "435       1             (16, 16)      opt4         0.0080       0.870690\n",
       "566       1             (16, 16)      opt4         0.0055       0.870690"
      ]
     },
     "execution_count": 32,
     "metadata": {},
     "output_type": "execute_result"
    }
   ],
   "source": [
    "a.sort_values(\"Mean Accuracy\", ascending=False).head(10)"
   ]
  },
  {
   "cell_type": "markdown",
   "metadata": {},
   "source": []
  }
 ],
 "metadata": {
  "kernelspec": {
   "display_name": "PhD_test",
   "language": "python",
   "name": "python3"
  },
  "language_info": {
   "codemirror_mode": {
    "name": "ipython",
    "version": 3
   },
   "file_extension": ".py",
   "mimetype": "text/x-python",
   "name": "python",
   "nbconvert_exporter": "python",
   "pygments_lexer": "ipython3",
   "version": "3.12.0"
  }
 },
 "nbformat": 4,
 "nbformat_minor": 2
}
