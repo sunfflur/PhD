{
 "cells": [
  {
   "cell_type": "code",
   "execution_count": 5,
   "metadata": {},
   "outputs": [],
   "source": [
    "import numpy as np\n",
    "\n",
    "np.int = int\n",
    "np.bool = bool\n",
    "np.object = object\n",
    "from braindecode.datasets import BCICompetitionIVDataset4"
   ]
  },
  {
   "cell_type": "code",
   "execution_count": 6,
   "metadata": {},
   "outputs": [
    {
     "name": "stderr",
     "output_type": "stream",
     "text": [
      "/home/natalia/miniforge-pypy3/envs/PhD_test/lib/python3.12/site-packages/moabb/datasets/download.py:53: RuntimeWarning: Setting non-standard config type: \"MNE_DATASETS_BCICOMPETITIONIVDATASET4_PATH\"\n",
      "  set_config(key, get_config(\"MNE_DATA\"))\n",
      "Downloading data from 'https://stacks.stanford.edu/file/druid:zk881ps0522/BCI_Competion4_dataset4_data_fingerflexions.zip' to file '/home/natalia/mne_data/MNE-bcicompetitionivdataset4-data/BCI_Competion4_dataset4_data_fingerflexions/BCI_Competion4_dataset4_data_fingerflexions/BCI_Competion4_dataset4_data_fingerflexions.zip'.\n"
     ]
    },
    {
     "name": "stdout",
     "output_type": "stream",
     "text": [
      "MNE_DATA is not already configured. It will be set to default location in the home directory - /home/natalia/mne_data\n",
      "All datasets will be downloaded to this location, if anything is already downloaded, please move manually to this location\n"
     ]
    },
    {
     "name": "stderr",
     "output_type": "stream",
     "text": [
      "SHA256 hash of downloaded file: 04c237ab33f25eb11c93d4cea69693823693d16ef145d4a034a77ddae6238ebb\n",
      "Use this value as the 'known_hash' argument of 'pooch.retrieve' to ensure that the file hasn't changed if it is downloaded again in the future.\n"
     ]
    },
    {
     "name": "stdout",
     "output_type": "stream",
     "text": [
      "Creating RawArray with float64 data, n_channels=67, n_times=400000\n",
      "    Range : 0 ... 399999 =      0.000 ...   399.999 secs\n",
      "Ready.\n",
      "Creating RawArray with float64 data, n_channels=67, n_times=200000\n",
      "    Range : 0 ... 199999 =      0.000 ...   199.999 secs\n",
      "Ready.\n"
     ]
    }
   ],
   "source": [
    "subject_id = 1\n",
    "dataset = BCICompetitionIVDataset4(subject_ids=[subject_id])"
   ]
  }
 ],
 "metadata": {
  "kernelspec": {
   "display_name": "PhD_test",
   "language": "python",
   "name": "python3"
  },
  "language_info": {
   "codemirror_mode": {
    "name": "ipython",
    "version": 3
   },
   "file_extension": ".py",
   "mimetype": "text/x-python",
   "name": "python",
   "nbconvert_exporter": "python",
   "pygments_lexer": "ipython3",
   "version": "3.12.0"
  }
 },
 "nbformat": 4,
 "nbformat_minor": 2
}
